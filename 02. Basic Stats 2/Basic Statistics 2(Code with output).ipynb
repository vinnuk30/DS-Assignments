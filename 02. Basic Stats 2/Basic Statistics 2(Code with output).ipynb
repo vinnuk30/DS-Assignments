{
 "cells": [
  {
   "cell_type": "markdown",
   "id": "970bc631",
   "metadata": {},
   "source": [
    "# Basic Statistics 2"
   ]
  },
  {
   "cell_type": "markdown",
   "id": "090d0b8a",
   "metadata": {},
   "source": [
    "### Soln a:"
   ]
  },
  {
   "cell_type": "code",
   "execution_count": 1,
   "id": "5a4c0286",
   "metadata": {},
   "outputs": [
    {
     "name": "stdout",
     "output_type": "stream",
     "text": [
      "Sample Mean: 1.2386666666666666\n",
      "Sample Standard Deviation: 0.19316412956959936\n",
      "Standard Error: 0.04987476379384733\n",
      "Critical Value (t-score): 2.97684273411266\n",
      "Margin of Error: 0.1484693282152996\n",
      "99% Confidence Interval: (1.090197338451367, 1.3871359948819662)\n"
     ]
    }
   ],
   "source": [
    "import numpy as np\n",
    "from scipy.stats import t\n",
    "\n",
    "# Sample data\n",
    "data = np.array([1.13, 1.55, 1.43, 0.92, 1.25, 1.36, 1.32, 0.85, 1.07, 1.48, 1.20, 1.33, 1.18, 1.22, 1.29])\n",
    "sample_mean = np.mean(data)\n",
    "sample_std = np.std(data, ddof=1)  # ddof=1 for sample standard deviation\n",
    "n = len(data)\n",
    "alpha = 0.01  # 99% confidence level\n",
    "t_critical = t.ppf(1 - alpha/2, df=n-1)  # two-tailed t-score\n",
    "\n",
    "# Calculate standard error\n",
    "standard_error = sample_std / np.sqrt(n)\n",
    "\n",
    "# Calculate margin of error\n",
    "margin_of_error = t_critical * standard_error\n",
    "\n",
    "# Calculate confidence interval\n",
    "confidence_interval = (sample_mean - margin_of_error, sample_mean + margin_of_error)\n",
    "\n",
    "# Print results\n",
    "print(\"Sample Mean:\", sample_mean)\n",
    "print(\"Sample Standard Deviation:\", sample_std)\n",
    "print(\"Standard Error:\", standard_error)\n",
    "print(\"Critical Value (t-score):\", t_critical)\n",
    "print(\"Margin of Error:\", margin_of_error)\n",
    "print(\"99% Confidence Interval:\", confidence_interval)\n"
   ]
  },
  {
   "cell_type": "markdown",
   "id": "b99029d7",
   "metadata": {},
   "source": [
    "### Soln b:"
   ]
  },
  {
   "cell_type": "code",
   "execution_count": 2,
   "id": "bcbf6024",
   "metadata": {},
   "outputs": [
    {
     "name": "stdout",
     "output_type": "stream",
     "text": [
      "Sample Mean: 1.2386666666666666\n",
      "Population Standard Deviation: 0.2\n",
      "Margin of Error: 0.13301525327090588\n",
      "99% Confidence Interval: (1.1056514133957607, 1.3716819199375725)\n"
     ]
    }
   ],
   "source": [
    "from scipy.stats import norm\n",
    "\n",
    "# Sample data\n",
    "data = np.array([1.13, 1.55, 1.43, 0.92, 1.25, 1.36, 1.32, 0.85, 1.07, 1.48, 1.20, 1.33, 1.18, 1.22, 1.29])\n",
    "sample_mean = np.mean(data)\n",
    "n = len(data)\n",
    "alpha = 0.01  # 99% confidence level\n",
    "z_critical = norm.ppf(1 - alpha/2)  # two-tailed z-score\n",
    "\n",
    "# Known population standard deviation\n",
    "population_std = 0.2\n",
    "\n",
    "# Calculate margin of error\n",
    "margin_of_error = z_critical * (population_std / np.sqrt(n))\n",
    "\n",
    "# Calculate confidence interval\n",
    "confidence_interval = (sample_mean - margin_of_error, sample_mean + margin_of_error)\n",
    "\n",
    "# Print results\n",
    "print(\"Sample Mean:\", sample_mean)\n",
    "print(\"Population Standard Deviation:\", population_std)\n",
    "print(\"Margin of Error:\", margin_of_error)\n",
    "print(\"99% Confidence Interval:\", confidence_interval)\n"
   ]
  }
 ],
 "metadata": {
  "kernelspec": {
   "display_name": "Python 3 (ipykernel)",
   "language": "python",
   "name": "python3"
  },
  "language_info": {
   "codemirror_mode": {
    "name": "ipython",
    "version": 3
   },
   "file_extension": ".py",
   "mimetype": "text/x-python",
   "name": "python",
   "nbconvert_exporter": "python",
   "pygments_lexer": "ipython3",
   "version": "3.11.5"
  }
 },
 "nbformat": 4,
 "nbformat_minor": 5
}
