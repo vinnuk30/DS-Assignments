{
 "cells": [
  {
   "cell_type": "code",
   "execution_count": 48,
   "id": "9313a2d4-cbe2-43ee-876d-123150e1dad2",
   "metadata": {},
   "outputs": [],
   "source": [
    "# Load necessary packages\n",
    "import pandas as pd\n",
    "from mlxtend.preprocessing import TransactionEncoder\n",
    "from mlxtend.frequent_patterns import apriori, association_rules"
   ]
  },
  {
   "cell_type": "code",
   "execution_count": 49,
   "id": "9f4f85d9-8d9c-4661-b695-af969c0a60cf",
   "metadata": {},
   "outputs": [],
   "source": [
    "# Load the dataset without headers\n",
    "df = pd.read_excel('Online retail.xlsx', sheet_name='Sheet1', header=None)"
   ]
  },
  {
   "cell_type": "markdown",
   "id": "c0595660-e612-401a-b04e-1bf4ba53f262",
   "metadata": {},
   "source": [
    "## Data Preprocessing"
   ]
  },
  {
   "cell_type": "code",
   "execution_count": 50,
   "id": "8c6fd906-c09b-4586-b933-b655b0e73d60",
   "metadata": {},
   "outputs": [
    {
     "name": "stdout",
     "output_type": "stream",
     "text": [
      "                                                   0\n",
      "0  shrimp,almonds,avocado,vegetables mix,green gr...\n",
      "1                             burgers,meatballs,eggs\n",
      "2                                            chutney\n",
      "3                                     turkey,avocado\n",
      "4  mineral water,milk,energy bar,whole wheat rice...\n",
      "(7501, 1)\n"
     ]
    }
   ],
   "source": [
    "# Display the first few rows to understand the structure\n",
    "print(df.head())\n",
    "print(df.shape)"
   ]
  },
  {
   "cell_type": "code",
   "execution_count": 51,
   "id": "600d7d5e-d932-40c7-a17e-bf0a240e4fad",
   "metadata": {},
   "outputs": [],
   "source": [
    "# Convert the single column of comma-separated items into a list of transactions\n",
    "transactions = df[0].apply(lambda x: x.split(','))"
   ]
  },
  {
   "cell_type": "code",
   "execution_count": 52,
   "id": "2f063117-4410-4e0c-8faa-a9f9f7d08bc2",
   "metadata": {},
   "outputs": [
    {
     "name": "stdout",
     "output_type": "stream",
     "text": [
      "0    [shrimp, almonds, avocado, vegetables mix, gre...\n",
      "1                           [burgers, meatballs, eggs]\n",
      "2                                            [chutney]\n",
      "3                                    [turkey, avocado]\n",
      "4    [mineral water, milk, energy bar, whole wheat ...\n",
      "Name: 0, dtype: object\n"
     ]
    }
   ],
   "source": [
    "# Display the first few transactions to verify\n",
    "print(transactions.head())"
   ]
  },
  {
   "cell_type": "code",
   "execution_count": 53,
   "id": "19834950-be1d-4bda-bd2b-7cd2e3bf968f",
   "metadata": {},
   "outputs": [
    {
     "name": "stdout",
     "output_type": "stream",
     "text": [
      "(7501,)\n"
     ]
    }
   ],
   "source": [
    "print(transactions.shape)"
   ]
  },
  {
   "cell_type": "markdown",
   "id": "83339dce-8570-4256-b5fb-80b73ada476f",
   "metadata": {},
   "source": [
    "## Implementing the Apriori Algorithm"
   ]
  },
  {
   "cell_type": "code",
   "execution_count": 54,
   "id": "f5fd8c44-3b5a-4516-9884-2e918cc2ea07",
   "metadata": {},
   "outputs": [],
   "source": [
    "# Convert the transactions list into a one-hot encoded DataFrame\n",
    "te = TransactionEncoder()\n",
    "te_ary = te.fit(transactions).transform(transactions)\n",
    "df_trans = pd.DataFrame(te_ary, columns=te.columns_)"
   ]
  },
  {
   "cell_type": "code",
   "execution_count": 55,
   "id": "3935da9b-90f6-4429-adef-64170497c974",
   "metadata": {},
   "outputs": [],
   "source": [
    "# Apply the Apriori algorithm with a minimum support threshold\n",
    "frequent_itemsets = apriori(df_trans, min_support=0.005, use_colnames=True)"
   ]
  },
  {
   "cell_type": "code",
   "execution_count": 56,
   "id": "a99feaa5-f0b1-4c58-95c0-102b281db02a",
   "metadata": {},
   "outputs": [
    {
     "name": "stdout",
     "output_type": "stream",
     "text": [
      "    support             itemsets\n",
      "0  0.020397            (almonds)\n",
      "1  0.008932  (antioxydant juice)\n",
      "2  0.033329            (avocado)\n",
      "3  0.008666              (bacon)\n",
      "4  0.010799     (barbecue sauce)\n",
      "  antecedents  consequents  antecedent support  consequent support   support  \\\n",
      "0   (almonds)    (burgers)            0.020397            0.087188  0.005199   \n",
      "1   (almonds)  (chocolate)            0.020397            0.163845  0.005999   \n",
      "2   (almonds)       (eggs)            0.020397            0.179709  0.006532   \n",
      "3   (almonds)  (green tea)            0.020397            0.132116  0.005066   \n",
      "4   (almonds)       (milk)            0.020397            0.129583  0.005199   \n",
      "\n",
      "   confidence      lift  leverage  conviction  zhangs_metric  \n",
      "0    0.254902  2.923577  0.003421    1.225089       0.671653  \n",
      "1    0.294118  1.795099  0.002657    1.184553       0.452150  \n",
      "2    0.320261  1.782108  0.002867    1.206774       0.448005  \n",
      "3    0.248366  1.879913  0.002371    1.154663       0.477806  \n",
      "4    0.254902  1.967098  0.002556    1.168192       0.501874  \n"
     ]
    }
   ],
   "source": [
    "# Check if we found any frequent itemsets\n",
    "print(frequent_itemsets.head())\n",
    "\n",
    "if frequent_itemsets.empty:\n",
    "    print(\"No frequent itemsets found. Try lowering the min_support value.\")\n",
    "else:\n",
    "    # Generate association rules with a minimum confidence threshold\n",
    "    rules = association_rules(frequent_itemsets, metric=\"confidence\", min_threshold=0.2)\n",
    "\n",
    "    # Display the resulting rules\n",
    "    print(rules.head())"
   ]
  },
  {
   "cell_type": "markdown",
   "id": "9b5b5dd7-b310-423b-aaa0-62bb78789248",
   "metadata": {},
   "source": [
    "## Analysis and Interpretation\n",
    "- Analyze the generated rules\n",
    "- Identify interesting patterns and relationships\n",
    "- Provide insights into customer purchasing behavior"
   ]
  },
  {
   "cell_type": "code",
   "execution_count": 57,
   "id": "057c57f6-70bd-404a-ad37-021eed1a1280",
   "metadata": {},
   "outputs": [
    {
     "name": "stdout",
     "output_type": "stream",
     "text": [
      "                        antecedents          consequents  antecedent support  \\\n",
      "108                         (pasta)           (escalope)            0.015731   \n",
      "208                         (pasta)             (shrimp)            0.015731   \n",
      "205             (whole wheat pasta)          (olive oil)            0.029463   \n",
      "521      (herb & pepper, spaghetti)        (ground beef)            0.016264   \n",
      "519  (mineral water, herb & pepper)        (ground beef)            0.017064   \n",
      "152                  (tomato sauce)        (ground beef)            0.014131   \n",
      "107          (mushroom cream sauce)           (escalope)            0.019064   \n",
      "504  (frozen vegetables, spaghetti)           (tomatoes)            0.027863   \n",
      "577           (mineral water, soup)          (olive oil)            0.023064   \n",
      "503           (tomatoes, spaghetti)  (frozen vegetables)            0.020931   \n",
      "\n",
      "     consequent support   support  confidence      lift  leverage  conviction  \\\n",
      "108            0.079323  0.005866    0.372881  4.700812  0.004618    1.468107   \n",
      "208            0.071457  0.005066    0.322034  4.506672  0.003942    1.369601   \n",
      "205            0.065858  0.007999    0.271493  4.122410  0.006059    1.282270   \n",
      "521            0.098254  0.006399    0.393443  4.004360  0.004801    1.486663   \n",
      "519            0.098254  0.006666    0.390625  3.975683  0.004989    1.479789   \n",
      "152            0.098254  0.005333    0.377358  3.840659  0.003944    1.448259   \n",
      "107            0.079323  0.005733    0.300699  3.790833  0.004220    1.316568   \n",
      "504            0.068391  0.006666    0.239234  3.498046  0.004760    1.224568   \n",
      "577            0.065858  0.005199    0.225434  3.423030  0.003680    1.206019   \n",
      "503            0.095321  0.006666    0.318471  3.341054  0.004671    1.327427   \n",
      "\n",
      "     zhangs_metric  \n",
      "108       0.799853  \n",
      "208       0.790543  \n",
      "205       0.780417  \n",
      "521       0.762677  \n",
      "519       0.761465  \n",
      "152       0.750230  \n",
      "107       0.750514  \n",
      "504       0.734594  \n",
      "577       0.724572  \n",
      "503       0.715673  \n",
      "Rule: If a customer buys pasta, they are likely to also buy escalope\n",
      " - Support: 0.005865884548726837\n",
      " - Confidence: 0.3728813559322034\n",
      " - Lift: 4.700811850163794\n",
      "\n",
      "Rule: If a customer buys pasta, they are likely to also buy shrimp\n",
      " - Support: 0.005065991201173177\n",
      " - Confidence: 0.3220338983050847\n",
      " - Lift: 4.506672147735896\n",
      "\n",
      "Rule: If a customer buys whole wheat pasta, they are likely to also buy olive oil\n",
      " - Support: 0.007998933475536596\n",
      " - Confidence: 0.2714932126696833\n",
      " - Lift: 4.122410097642296\n",
      "\n",
      "Rule: If a customer buys herb & pepper, spaghetti, they are likely to also buy ground beef\n",
      " - Support: 0.006399146780429276\n",
      " - Confidence: 0.3934426229508197\n",
      " - Lift: 4.004359721511667\n",
      "\n",
      "Rule: If a customer buys mineral water, herb & pepper, they are likely to also buy ground beef\n",
      " - Support: 0.006665777896280496\n",
      " - Confidence: 0.39062500000000006\n",
      " - Lift: 3.975682666214383\n",
      "\n",
      "Rule: If a customer buys tomato sauce, they are likely to also buy ground beef\n",
      " - Support: 0.005332622317024397\n",
      " - Confidence: 0.3773584905660377\n",
      " - Lift: 3.840659481324083\n",
      "\n",
      "Rule: If a customer buys mushroom cream sauce, they are likely to also buy escalope\n",
      " - Support: 0.005732568990801226\n",
      " - Confidence: 0.3006993006993007\n",
      " - Lift: 3.790832696715049\n",
      "\n",
      "Rule: If a customer buys frozen vegetables, spaghetti, they are likely to also buy tomatoes\n",
      " - Support: 0.006665777896280496\n",
      " - Confidence: 0.23923444976076558\n",
      " - Lift: 3.4980460188216425\n",
      "\n",
      "Rule: If a customer buys mineral water, soup, they are likely to also buy olive oil\n",
      " - Support: 0.005199306759098787\n",
      " - Confidence: 0.22543352601156072\n",
      " - Lift: 3.4230301186492245\n",
      "\n",
      "Rule: If a customer buys tomatoes, spaghetti, they are likely to also buy frozen vegetables\n",
      " - Support: 0.006665777896280496\n",
      " - Confidence: 0.3184713375796179\n",
      " - Lift: 3.341053850607991\n",
      "\n"
     ]
    }
   ],
   "source": [
    "if not rules.empty:\n",
    "    # Sort the rules by lift in descending order\n",
    "    rules.sort_values('lift', ascending=False, inplace=True)\n",
    "\n",
    "    # Display the top 10 rules\n",
    "    print(rules.head(10))\n",
    "\n",
    "    # Analyze the rules\n",
    "    for _, rule in rules.head(10).iterrows():\n",
    "        antecedents = ', '.join(list(rule['antecedents']))\n",
    "        consequents = ', '.join(list(rule['consequents']))\n",
    "        print(f\"Rule: If a customer buys {antecedents}, they are likely to also buy {consequents}\")\n",
    "        print(f\" - Support: {rule['support']}\")\n",
    "        print(f\" - Confidence: {rule['confidence']}\")\n",
    "        print(f\" - Lift: {rule['lift']}\")\n",
    "        print()\n",
    "else:\n",
    "    print(\"No association rules found.\")"
   ]
  }
 ],
 "metadata": {
  "kernelspec": {
   "display_name": "Python 3 (ipykernel)",
   "language": "python",
   "name": "python3"
  },
  "language_info": {
   "codemirror_mode": {
    "name": "ipython",
    "version": 3
   },
   "file_extension": ".py",
   "mimetype": "text/x-python",
   "name": "python",
   "nbconvert_exporter": "python",
   "pygments_lexer": "ipython3",
   "version": "3.11.7"
  }
 },
 "nbformat": 4,
 "nbformat_minor": 5
}
