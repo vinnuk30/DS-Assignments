{
 "cells": [
  {
   "cell_type": "markdown",
   "id": "2e301dc0",
   "metadata": {},
   "source": [
    "# Exercises"
   ]
  },
  {
   "cell_type": "markdown",
   "id": "bf768a4b",
   "metadata": {},
   "source": [
    "## 1. Soln:"
   ]
  },
  {
   "cell_type": "raw",
   "id": "a98bf94b",
   "metadata": {},
   "source": [
    "Here's an explanation of the logic and approach used in the below code:\n",
    "\n",
    "1. The function checks if the input number is less than or equal to 1. If it is, the function immediately returns `False`.\n",
    "2. It then iterates from 2 to the square root of the input number, checking if the number is divisible by any of these values.\n",
    "3. If the number is divisible by any value in the range, the function returns `False`.\n",
    "4. If the loop completes without finding any factors, the function returns `True`, indicating that the number is prime."
   ]
  },
  {
   "cell_type": "code",
   "execution_count": 15,
   "id": "c752376d",
   "metadata": {},
   "outputs": [
    {
     "name": "stdout",
     "output_type": "stream",
     "text": [
      "Enter a number: 7\n",
      "7 is a prime number\n"
     ]
    }
   ],
   "source": [
    "def is_prime(number):\n",
    "    \"\"\"Check if a number is prime.\n",
    "\n",
    "    Args:\n",
    "        number (int): The number to check.\n",
    "\n",
    "    Returns:\n",
    "        bool: True if the number is prime, False otherwise.\n",
    "    \"\"\"\n",
    "    # Prime numbers are greater than 1\n",
    "    if number <= 1:\n",
    "        return False\n",
    "\n",
    "    # Check for factors from 2 to the square root of the number\n",
    "    for i in range(2, int(number ** 0.5) + 1):\n",
    "        if number % i == 0:\n",
    "            # If the number is divisible by any other number, it's not prime\n",
    "            return False\n",
    "\n",
    "    # If no factors found, the number is prime\n",
    "    return True\n",
    "\n",
    "# Input number from user\n",
    "num = int(input(\"Enter a number: \"))\n",
    "\n",
    "# Check if the input number is prime\n",
    "if is_prime(num):\n",
    "    print(f\"{num} is a prime number\")\n",
    "else:\n",
    "    print(f\"{num} is not a prime number\")\n"
   ]
  },
  {
   "cell_type": "markdown",
   "id": "25ed9f38",
   "metadata": {},
   "source": [
    "## 2. Soln:"
   ]
  },
  {
   "cell_type": "raw",
   "id": "7a293efd",
   "metadata": {},
   "source": [
    "Here's an explanation of the logic and approach used in the below code:\n",
    "\n",
    "1. Import the `random` module to generate random numbers.\n",
    "2. Use `random.randint(a, b)` to generate two random integers, `random_number1` between 1 and 30, and `random_number2` between 1 and 20.\n",
    "3. Print the two random numbers.\n",
    "4. Ask the user to enter the product of these two numbers using `input()` and convert the input to an integer using `int()`.\n",
    "5. Calculate the correct product of the two numbers.\n",
    "6. Check if the user's input matches the correct product. If it does, print \"That's correct\". Otherwise, print a message indicating the correct product."
   ]
  },
  {
   "cell_type": "code",
   "execution_count": 25,
   "id": "8cf2158c",
   "metadata": {},
   "outputs": [
    {
     "name": "stdout",
     "output_type": "stream",
     "text": [
      "Random Number 1: 6\n",
      "Random Number 2: 20\n",
      "Enter the product of two numbers: 120\n",
      "That's correct\n"
     ]
    }
   ],
   "source": [
    "import random\n",
    "\n",
    "# Generate two random numbers\n",
    "random_number1 = random.randint(1, 30)  # Generate a random integer between 1 and 100\n",
    "random_number2 = random.randint(1, 20)   # Generate a random float between 1 and 10\n",
    "print(\"Random Number 1:\", random_number1)\n",
    "print(\"Random Number 2:\", random_number2)\n",
    "\n",
    "# Ask the user to enter the product of these two numbers\n",
    "user = int(input('Enter the product of two numbers: '))\n",
    "\n",
    "# Product of two numbers\n",
    "product = random_number1 * random_number2\n",
    "\n",
    "# Check if the user's input matches value of the product of two numbers\n",
    "if(user == product):\n",
    "    print(\"That's correct\")\n",
    "else:\n",
    "    print(f\"That's incorrect, The correct product of two numbers is {product}\")"
   ]
  },
  {
   "cell_type": "markdown",
   "id": "37ced059",
   "metadata": {},
   "source": [
    "## 3. Soln:"
   ]
  },
  {
   "cell_type": "raw",
   "id": "32a099ec",
   "metadata": {},
   "source": [
    "Here's an explanation of the logic and approach used in the below code:\n",
    "\n",
    "1. Use a `for` loop to iterate through numbers from 100 to 200 (inclusive).\n",
    "2. For each number (`num`) in the range, check if it is odd using the condition `num % 2 != 0`. If the remainder of `num` divided by 2 is not equal to 0, then `num` is odd.\n",
    "3. If the number is odd, calculate its square using `num**2` and print the result along with the original number."
   ]
  },
  {
   "cell_type": "code",
   "execution_count": 24,
   "id": "02d5188c",
   "metadata": {},
   "outputs": [
    {
     "name": "stdout",
     "output_type": "stream",
     "text": [
      "The square of 101 is 10201\n",
      "The square of 103 is 10609\n",
      "The square of 105 is 11025\n",
      "The square of 107 is 11449\n",
      "The square of 109 is 11881\n",
      "The square of 111 is 12321\n",
      "The square of 113 is 12769\n",
      "The square of 115 is 13225\n",
      "The square of 117 is 13689\n",
      "The square of 119 is 14161\n",
      "The square of 121 is 14641\n",
      "The square of 123 is 15129\n",
      "The square of 125 is 15625\n",
      "The square of 127 is 16129\n",
      "The square of 129 is 16641\n",
      "The square of 131 is 17161\n",
      "The square of 133 is 17689\n",
      "The square of 135 is 18225\n",
      "The square of 137 is 18769\n",
      "The square of 139 is 19321\n",
      "The square of 141 is 19881\n",
      "The square of 143 is 20449\n",
      "The square of 145 is 21025\n",
      "The square of 147 is 21609\n",
      "The square of 149 is 22201\n",
      "The square of 151 is 22801\n",
      "The square of 153 is 23409\n",
      "The square of 155 is 24025\n",
      "The square of 157 is 24649\n",
      "The square of 159 is 25281\n",
      "The square of 161 is 25921\n",
      "The square of 163 is 26569\n",
      "The square of 165 is 27225\n",
      "The square of 167 is 27889\n",
      "The square of 169 is 28561\n",
      "The square of 171 is 29241\n",
      "The square of 173 is 29929\n",
      "The square of 175 is 30625\n",
      "The square of 177 is 31329\n",
      "The square of 179 is 32041\n",
      "The square of 181 is 32761\n",
      "The square of 183 is 33489\n",
      "The square of 185 is 34225\n",
      "The square of 187 is 34969\n",
      "The square of 189 is 35721\n",
      "The square of 191 is 36481\n",
      "The square of 193 is 37249\n",
      "The square of 195 is 38025\n",
      "The square of 197 is 38809\n",
      "The square of 199 is 39601\n"
     ]
    }
   ],
   "source": [
    "# Iterate through numbers from 100 to 200\n",
    "for num in range(100, 201):\n",
    "    # Check if the number is odd\n",
    "    if num % 2 != 0:\n",
    "        # Print the square of the odd number\n",
    "        print(f\"The square of {num} is {num**2}\")"
   ]
  },
  {
   "cell_type": "markdown",
   "id": "5db5dd6c",
   "metadata": {},
   "source": [
    "## 4. Soln:"
   ]
  },
  {
   "cell_type": "raw",
   "id": "f166eb13",
   "metadata": {},
   "source": [
    "Here's an explanation of the logic and approach used in the below code:\n",
    "\n",
    "1. Split the input text into individual words using `text.split()`.\n",
    "2. Create an empty dictionary `word_counts` to store word counts.\n",
    "3. Iterate through each word in the list of words:\n",
    "   - Remove punctuation from the word using `word.strip(\".,!?\")`.\n",
    "   - Convert the word to lowercase using `word.lower()`.\n",
    "   - Update the count for the word in the `word_counts` dictionary.\n",
    "\n",
    "4. Return the `word_counts` dictionary containing word counts.\n",
    "5. Finally, print the word counts by iterating over the dictionary."
   ]
  },
  {
   "cell_type": "code",
   "execution_count": 27,
   "id": "5164b14c",
   "metadata": {},
   "outputs": [
    {
     "name": "stdout",
     "output_type": "stream",
     "text": [
      "'this': 2\n",
      "'is': 1\n",
      "'a': 1\n",
      "'sample': 1\n",
      "'text': 2\n",
      "'will': 1\n",
      "'be': 1\n",
      "'used': 1\n",
      "'to': 1\n",
      "'demonstrate': 1\n",
      "'the': 1\n",
      "'word': 1\n",
      "'counter': 1\n"
     ]
    }
   ],
   "source": [
    "def count_words(text):\n",
    "    \"\"\"Count the number of words in the given text.\n",
    "\n",
    "    Args:\n",
    "        text (str): The input text.\n",
    "\n",
    "    Returns:\n",
    "        dict: A dictionary where keys are words and values are their counts.\n",
    "    \"\"\"\n",
    "    # Split the text into words\n",
    "    words = text.split()\n",
    "\n",
    "    # Create a dictionary to store word counts\n",
    "    word_counts = {}\n",
    "\n",
    "    # Iterate through the words and update the counts\n",
    "    for word in words:\n",
    "        # Remove punctuation from the word\n",
    "        word = word.strip(\".,!?\")\n",
    "        # Convert the word to lowercase\n",
    "        word = word.lower()\n",
    "        # Update the count for the word\n",
    "        if word in word_counts:\n",
    "            word_counts[word] += 1\n",
    "        else:\n",
    "            word_counts[word] = 1\n",
    "\n",
    "    return word_counts\n",
    "\n",
    "# Input text\n",
    "input_text = \"This is a sample text. This text will be used to demonstrate the word counter.\"\n",
    "\n",
    "# Count the words in the input text\n",
    "word_counts = count_words(input_text)\n",
    "\n",
    "# Print the word counts\n",
    "for word, count in word_counts.items():\n",
    "    print(f\"'{word}': {count}\")\n"
   ]
  },
  {
   "cell_type": "markdown",
   "id": "72953dcd",
   "metadata": {},
   "source": [
    "## 5. Soln:"
   ]
  },
  {
   "cell_type": "raw",
   "id": "2ac4f6e8",
   "metadata": {},
   "source": [
    "Here's an explanation of the logic and approach used in the below code:\n",
    "\n",
    "1. Remove spaces, punctuation, and convert all characters to lowercase using a list comprehension: `s = ''.join(char.lower() for char in s if char.isalnum())`.\n",
    "2. Check if the length of the processed string is greater than 0 and if it is equal to its reverse (`s == s[::-1]`). This condition checks if the string is not empty and if it reads the same forwards and backwards.\n",
    "3. Return `True` if the string is a palindrome, `False` otherwise.\n",
    "4. Finally, prompt the user to enter a word, and check if the input word is a palindrome using the `is_palindrome` function. Print the result accordingly."
   ]
  },
  {
   "cell_type": "code",
   "execution_count": 36,
   "id": "70041822",
   "metadata": {},
   "outputs": [
    {
     "name": "stdout",
     "output_type": "stream",
     "text": [
      "Enter a word: level\n",
      "'level' is a palindrome\n"
     ]
    }
   ],
   "source": [
    "def is_palindrome(s):\n",
    "    \"\"\"Check if a string is a palindrome.\n",
    "\n",
    "    Args:\n",
    "        s (str): The input string.\n",
    "\n",
    "    Returns:\n",
    "        bool: True if the string is a palindrome, False otherwise.\n",
    "    \"\"\"\n",
    "    # Remove spaces and punctuation, and convert to lowercase\n",
    "    s = ''.join(char.lower() for char in s if char.isalnum())\n",
    "\n",
    "    # Check if the input is not empty and is equal to its reverse\n",
    "    return len(s) > 0 and s == s[::-1]\n",
    "\n",
    "# Get user input\n",
    "input_string = input(\"Enter a word: \")\n",
    "\n",
    "# Check if the input is a palindrome\n",
    "if is_palindrome(input_string):\n",
    "    print(f\"'{input_string}' is a palindrome\")\n",
    "else:\n",
    "    print(f\"'{input_string}' is not a palindrome\")"
   ]
  }
 ],
 "metadata": {
  "kernelspec": {
   "display_name": "Python 3 (ipykernel)",
   "language": "python",
   "name": "python3"
  },
  "language_info": {
   "codemirror_mode": {
    "name": "ipython",
    "version": 3
   },
   "file_extension": ".py",
   "mimetype": "text/x-python",
   "name": "python",
   "nbconvert_exporter": "python",
   "pygments_lexer": "ipython3",
   "version": "3.11.5"
  }
 },
 "nbformat": 4,
 "nbformat_minor": 5
}
