{
 "cells": [
  {
   "cell_type": "markdown",
   "id": "05ae55cf",
   "metadata": {},
   "source": [
    "## Hypothesis Testing for Cutlets.csv"
   ]
  },
  {
   "cell_type": "code",
   "execution_count": 457,
   "id": "cad99032",
   "metadata": {},
   "outputs": [],
   "source": [
    "import numpy as np\n",
    "import pandas as pd\n",
    "import matplotlib.pyplot as plt\n",
    "import seaborn as sns\n",
    "\n",
    "from scipy import stats"
   ]
  },
  {
   "cell_type": "code",
   "execution_count": 458,
   "id": "a70e2a49",
   "metadata": {},
   "outputs": [
    {
     "name": "stdout",
     "output_type": "stream",
     "text": [
      "   Unit A  Unit B\n",
      "0  6.8090  6.7703\n",
      "1  6.4376  7.5093\n",
      "2  6.9157  6.7300\n",
      "3  7.3012  6.7878\n",
      "4  7.4488  7.1522\n"
     ]
    }
   ],
   "source": [
    "cutlets = pd.read_csv('3. Cutlets.csv')\n",
    "print(cutlets.head())"
   ]
  },
  {
   "cell_type": "code",
   "execution_count": 459,
   "id": "50851b81",
   "metadata": {},
   "outputs": [
    {
     "data": {
      "text/plain": [
       "(35, 2)"
      ]
     },
     "execution_count": 459,
     "metadata": {},
     "output_type": "execute_result"
    }
   ],
   "source": [
    "cutlets.shape"
   ]
  },
  {
   "cell_type": "raw",
   "id": "fb649bd8",
   "metadata": {},
   "source": [
    "Check if outliers are present in the dataset\n",
    "Since there are only two Series(Unit A and Unit B) in the dataset. So, analyzing for both the series\n",
    "To remove outliers, the following calculations should be done\n",
    "1. Lower bound (minimum)\n",
    "2. First quartile (Q1)\n",
    "3. Median\n",
    "4. Third quartile (Q2)\n",
    "5. Upper bound (maximum)"
   ]
  },
  {
   "cell_type": "code",
   "execution_count": 460,
   "id": "8e602ba8",
   "metadata": {},
   "outputs": [
    {
     "data": {
      "text/plain": [
       "0.95"
      ]
     },
     "execution_count": 460,
     "metadata": {},
     "output_type": "execute_result"
    }
   ],
   "source": [
    "alpha = 0.05 # Given\n",
    "\n",
    "# Confidence Interval\n",
    "ci = 1 - alpha\n",
    "ci"
   ]
  },
  {
   "cell_type": "code",
   "execution_count": 461,
   "id": "c5b38d1f",
   "metadata": {
    "scrolled": false
   },
   "outputs": [
    {
     "name": "stdout",
     "output_type": "stream",
     "text": [
      "Q1: Unit A    6.8315\n",
      "Unit B    6.7536\n",
      "Name: 0.25, dtype: float64\n",
      "Q3: Unit A    7.28055\n",
      "Unit B    7.19500\n",
      "Name: 0.75, dtype: float64\n",
      "IQR: Unit A    0.44905\n",
      "Unit B    0.44140\n",
      "dtype: float64\n",
      "lower_bound: Unit A    6.157925\n",
      "Unit B    6.091500\n",
      "dtype: float64\n",
      "upper bound: Unit A    7.954125\n",
      "Unit B    7.857100\n",
      "dtype: float64\n",
      "\n",
      "No outliers in column 'Unit A'\n",
      "Outlier(s) in column 'Unit B':\n",
      "13    6.038\n",
      "Name: Unit B, dtype: float64\n",
      "\n",
      "No outliers     Unit A  Unit B\n",
      "0   6.8090  6.7703\n",
      "1   6.4376  7.5093\n",
      "2   6.9157  6.7300\n",
      "3   7.3012  6.7878\n",
      "4   7.4488  7.1522\n",
      "5   7.3871  6.8110\n",
      "6   6.8755  7.2212\n",
      "7   7.0621  6.6606\n",
      "8   6.6840  7.2402\n",
      "9   6.8236  7.0503\n",
      "10  7.3930  6.8810\n",
      "11  7.5169  7.4059\n",
      "12  6.9246  6.7652\n",
      "13  6.5797  7.1581\n",
      "14  6.8394  7.0240\n",
      "15  6.5970  6.6672\n",
      "16  7.2705  7.4314\n",
      "17  7.2828  7.3070\n",
      "18  7.3495  6.7478\n",
      "19  6.9438  6.8889\n",
      "20  7.1560  7.4220\n",
      "21  6.5341  6.5217\n",
      "22  7.2854  7.1688\n",
      "23  6.9952  6.7594\n",
      "24  6.8568  6.9399\n",
      "25  7.2163  7.0133\n",
      "26  6.6801  6.9182\n",
      "27  6.9431  6.3346\n",
      "28  7.0852  7.5459\n",
      "29  6.7794  7.0992\n",
      "30  7.2783  7.1180\n",
      "31  7.1561  6.6965\n",
      "32  7.3943  6.5780\n",
      "33  6.9405  7.3875\n"
     ]
    }
   ],
   "source": [
    "# Calculations for Outliers\n",
    "\n",
    "Q1 = cutlets.quantile(0.25)\n",
    "print(f'Q1: {Q1}')\n",
    "Q3 = cutlets.quantile(0.75)\n",
    "print(f'Q3: {Q3}')\n",
    "IQR = Q3 - Q1\n",
    "print(f'IQR: {IQR}')\n",
    "# Calculate lower and upper bounds\n",
    "lower_bound = Q1 - 1.5 * IQR\n",
    "print(f'lower_bound: {lower_bound}')\n",
    "upper_bound = Q3 + 1.5 * IQR\n",
    "print(f'upper bound: {upper_bound}')\n",
    "print()\n",
    "\n",
    "# Outliers\n",
    "for col in cutlets.columns:\n",
    "    cutlets_outliers = cutlets[(cutlets[col] < lower_bound[col]) | (cutlets[col] > upper_bound[col])]\n",
    "    if not cutlets_outliers.empty:\n",
    "        print(f\"Outlier(s) in column '{col}':\")\n",
    "        print(cutlets_outliers[col])\n",
    "    else:\n",
    "        print(f\"No outliers in column '{col}'\")\n",
    "print()\n",
    "\n",
    "# Remove outliers\n",
    "cutlets_no_outliers = cutlets[(cutlets >= lower_bound) & (cutlets <= upper_bound)].dropna().reset_index(drop=True)\n",
    "print(\"No outliers\", cutlets_no_outliers)"
   ]
  },
  {
   "cell_type": "code",
   "execution_count": 462,
   "id": "b4c02bdc",
   "metadata": {},
   "outputs": [
    {
     "data": {
      "text/html": [
       "<div>\n",
       "<style scoped>\n",
       "    .dataframe tbody tr th:only-of-type {\n",
       "        vertical-align: middle;\n",
       "    }\n",
       "\n",
       "    .dataframe tbody tr th {\n",
       "        vertical-align: top;\n",
       "    }\n",
       "\n",
       "    .dataframe thead th {\n",
       "        text-align: right;\n",
       "    }\n",
       "</style>\n",
       "<table border=\"1\" class=\"dataframe\">\n",
       "  <thead>\n",
       "    <tr style=\"text-align: right;\">\n",
       "      <th></th>\n",
       "      <th>Unit A</th>\n",
       "      <th>Unit B</th>\n",
       "    </tr>\n",
       "  </thead>\n",
       "  <tbody>\n",
       "    <tr>\n",
       "      <th>0</th>\n",
       "      <td>6.8090</td>\n",
       "      <td>6.7703</td>\n",
       "    </tr>\n",
       "    <tr>\n",
       "      <th>1</th>\n",
       "      <td>6.4376</td>\n",
       "      <td>7.5093</td>\n",
       "    </tr>\n",
       "    <tr>\n",
       "      <th>2</th>\n",
       "      <td>6.9157</td>\n",
       "      <td>6.7300</td>\n",
       "    </tr>\n",
       "    <tr>\n",
       "      <th>3</th>\n",
       "      <td>7.3012</td>\n",
       "      <td>6.7878</td>\n",
       "    </tr>\n",
       "    <tr>\n",
       "      <th>4</th>\n",
       "      <td>7.4488</td>\n",
       "      <td>7.1522</td>\n",
       "    </tr>\n",
       "  </tbody>\n",
       "</table>\n",
       "</div>"
      ],
      "text/plain": [
       "   Unit A  Unit B\n",
       "0  6.8090  6.7703\n",
       "1  6.4376  7.5093\n",
       "2  6.9157  6.7300\n",
       "3  7.3012  6.7878\n",
       "4  7.4488  7.1522"
      ]
     },
     "execution_count": 462,
     "metadata": {},
     "output_type": "execute_result"
    }
   ],
   "source": [
    "# Re-assigning to new variable\n",
    "new_cutlets = cutlets_no_outliers\n",
    "new_cutlets.head()"
   ]
  },
  {
   "cell_type": "code",
   "execution_count": 463,
   "id": "c94cf659",
   "metadata": {},
   "outputs": [
    {
     "data": {
      "image/png": "[encoded data removed]",
      "text/plain": [
       "<Figure size 1600x600 with 2 Axes>"
      ]
     },
     "metadata": {},
     "output_type": "display_data"
    }
   ],
   "source": [
    "# Plot the graph(before removing outliers)\n",
    "\n",
    "# Create a custom color palette\n",
    "colors = ['#1f77b4', '#ff7f0e']\n",
    "\n",
    "# Create a figure with two subplots\n",
    "fig, axs = plt.subplots(1, 2, figsize=(16, 6))\n",
    "\n",
    "# Plot the histogram\n",
    "snsplot = sns.histplot([cutlets['Unit A'], cutlets['Unit B']], ax=axs[0], color=colors)\n",
    "axs[0].set_ylabel('Frequency')\n",
    "axs[0].set_title('Histogram of Diameter of Cutlets')\n",
    "\n",
    "# Plot the boxplot\n",
    "sns.boxplot(x='variable', y='value', data=pd.melt(cutlets[['Unit A', 'Unit B']]), ax=axs[1], palette=colors)\n",
    "axs[1].set_ylabel('Diameter of Cutlets')\n",
    "axs[1].set_title('Comparison of Diameter of Cutlets between Unit A and Unit B')\n",
    "\n",
    "plt.tight_layout()\n",
    "plt.show()\n"
   ]
  },
  {
   "cell_type": "code",
   "execution_count": 464,
   "id": "8e112b59",
   "metadata": {},
   "outputs": [
    {
     "data": {
      "image/png": "[encoded data removed]",
      "text/plain": [
       "<Figure size 1600x600 with 2 Axes>"
      ]
     },
     "metadata": {},
     "output_type": "display_data"
    }
   ],
   "source": [
    "# Plot the graph(after removing outliers)\n",
    "\n",
    "# Create a custom color palette\n",
    "colors = ['#1f77b4', '#ff7f0e']\n",
    "\n",
    "# Create a figure with two subplots\n",
    "fig, axs = plt.subplots(1, 2, figsize=(16, 6))\n",
    "\n",
    "# Plot the histogram\n",
    "snsplot = sns.histplot([new_cutlets['Unit A'], new_cutlets['Unit B']], ax=axs[0], color=colors)\n",
    "axs[0].set_ylabel('Frequency')\n",
    "axs[0].set_title('Histogram of Diameter of Cutlets')\n",
    "\n",
    "# Plot the boxplot\n",
    "sns.boxplot(x='variable', y='value', data=pd.melt(new_cutlets[['Unit A', 'Unit B']]), ax=axs[1], palette=colors)\n",
    "axs[1].set_ylabel('Diameter of Cutlets')\n",
    "axs[1].set_title('Comparison of Diameter of Cutlets between Unit A and Unit B')\n",
    "\n",
    "plt.tight_layout()\n",
    "plt.show()\n"
   ]
  },
  {
   "cell_type": "code",
   "execution_count": 465,
   "id": "f40dd7c7",
   "metadata": {},
   "outputs": [],
   "source": [
    "# State null hypothesis\n",
    "h0 = \"There is no significant difference in the diameter of the cutlets between Unit A and Unit B.\""
   ]
  },
  {
   "cell_type": "code",
   "execution_count": 466,
   "id": "7df34daa",
   "metadata": {},
   "outputs": [],
   "source": [
    "# State alternate hypothesis\n",
    "h1 = \"There is a significant difference in the diameter of the cutlets between Unit A and Unit B.\""
   ]
  },
  {
   "cell_type": "code",
   "execution_count": 467,
   "id": "528344fd",
   "metadata": {},
   "outputs": [],
   "source": [
    "# State alpha value\n",
    "alpha = 0.05"
   ]
  },
  {
   "cell_type": "code",
   "execution_count": 468,
   "id": "8c908a19",
   "metadata": {},
   "outputs": [],
   "source": [
    "# State decision rule (two-tail test)\n",
    "decision_rule = \"If p-value < alpha/2, reject null hypothesis.\""
   ]
  },
  {
   "cell_type": "code",
   "execution_count": 469,
   "id": "c3112fac",
   "metadata": {},
   "outputs": [],
   "source": [
    "# Perform the test\n",
    "\n",
    "# Iterate over each column index in the new_cutlets DataFrame\n",
    "for i in range(len(new_cutlets.columns)):\n",
    "    # Nested loop to iterate over each column index starting from i+1 to avoid duplicate pairs.\n",
    "    for j in range(i+1, len(new_cutlets.columns)):\n",
    "        # Perform an independent t-test and p_value for each column\n",
    "        t_statistic, p_value = stats.ttest_ind(new_cutlets[new_cutlets.columns[i]], new_cutlets[new_cutlets.columns[j]])"
   ]
  },
  {
   "cell_type": "code",
   "execution_count": 470,
   "id": "d1dd15d2",
   "metadata": {},
   "outputs": [
    {
     "name": "stdout",
     "output_type": "stream",
     "text": [
      "Null Hypothesis (H0): There is no significant difference in the diameter of the cutlets between Unit A and Unit B.\n",
      "\n",
      "Alternate Hypothesis (H1): There is a significant difference in the diameter of the cutlets between Unit A and Unit B.\n",
      "\n",
      "Alpha Value: 0.05\n",
      "\n",
      "Decision Rule: If p-value < alpha/2, reject null hypothesis.\n",
      "\n",
      "Comparing Unit A and Unit B:\n",
      "T-Statistic: 0.41624950154151424\n",
      "P-Value: 0.678577951904273\n",
      "\n",
      "Fail to reject the null hypothesis. There is a significant difference in the diameter of the cutlets between Unit A and Unit B.\n"
     ]
    }
   ],
   "source": [
    "# Conclude the test\n",
    "print(\"Null Hypothesis (H0):\", h0)\n",
    "print(\"\\nAlternate Hypothesis (H1):\", h1)\n",
    "print(\"\\nAlpha Value:\", alpha)\n",
    "print(\"\\nDecision Rule:\", decision_rule)\n",
    "for i in range(len(new_cutlets.columns)):\n",
    "    for j in range(i+1, len(new_cutlets.columns)):\n",
    "        print(f\"\\nComparing {new_cutlets.columns[i]} and {new_cutlets.columns[j]}:\")\n",
    "        print(\"T-Statistic:\", t_statistic)\n",
    "        print(\"P-Value:\", p_value)\n",
    "        \n",
    "        # Check whether to reject the null hypothesis or not\n",
    "        if p_value < alpha:\n",
    "            print(f\"\\nReject the null hypothesis. {h0}\")\n",
    "        else:\n",
    "            print(f\"\\nFail to reject the null hypothesis. {h1}\")"
   ]
  },
  {
   "cell_type": "raw",
   "id": "b72e8860",
   "metadata": {},
   "source": [
    "Assumptions and Tests:\n",
    "\n",
    "- Normality Assumption: We assume that the diameter measurements for both Unit A and Unit B are normally distributed. This assumption was not explicitly tested in the provided code, but it can be assessed using the Shapiro-Wilk test for normality. If the p-values from the Shapiro-Wilk test for both groups are greater than 0.05, we can assume that the data are normally distributed.\n",
    "\n",
    "- Equal Variance Assumption: The code uses the equal_var=True parameter in the stats.ttest_ind function, assuming that the variances of the two groups (Unit A and Unit B) are equal. This assumption can be further validated using Levene's test for equality of variances. If the p-value from Levene's test is greater than 0.05, we can assume equal variances.\n",
    "\n",
    "- Independence Assumption: The data points in each group (Unit A and Unit B) should be independent of each other. This assumption is typically met in random sampling scenarios."
   ]
  },
  {
   "cell_type": "markdown",
   "id": "0cea868d",
   "metadata": {},
   "source": [
    "## Hypothesis Testing for LabTAT.csv"
   ]
  },
  {
   "cell_type": "code",
   "execution_count": 471,
   "id": "e855b203",
   "metadata": {},
   "outputs": [
    {
     "data": {
      "text/html": [
       "<div>\n",
       "<style scoped>\n",
       "    .dataframe tbody tr th:only-of-type {\n",
       "        vertical-align: middle;\n",
       "    }\n",
       "\n",
       "    .dataframe tbody tr th {\n",
       "        vertical-align: top;\n",
       "    }\n",
       "\n",
       "    .dataframe thead th {\n",
       "        text-align: right;\n",
       "    }\n",
       "</style>\n",
       "<table border=\"1\" class=\"dataframe\">\n",
       "  <thead>\n",
       "    <tr style=\"text-align: right;\">\n",
       "      <th></th>\n",
       "      <th>Laboratory 1</th>\n",
       "      <th>Laboratory 2</th>\n",
       "      <th>Laboratory 3</th>\n",
       "      <th>Laboratory 4</th>\n",
       "    </tr>\n",
       "  </thead>\n",
       "  <tbody>\n",
       "    <tr>\n",
       "      <th>0</th>\n",
       "      <td>185.35</td>\n",
       "      <td>165.53</td>\n",
       "      <td>176.70</td>\n",
       "      <td>166.13</td>\n",
       "    </tr>\n",
       "    <tr>\n",
       "      <th>1</th>\n",
       "      <td>170.49</td>\n",
       "      <td>185.91</td>\n",
       "      <td>198.45</td>\n",
       "      <td>160.79</td>\n",
       "    </tr>\n",
       "    <tr>\n",
       "      <th>2</th>\n",
       "      <td>192.77</td>\n",
       "      <td>194.92</td>\n",
       "      <td>201.23</td>\n",
       "      <td>185.18</td>\n",
       "    </tr>\n",
       "    <tr>\n",
       "      <th>3</th>\n",
       "      <td>177.33</td>\n",
       "      <td>183.00</td>\n",
       "      <td>199.61</td>\n",
       "      <td>176.42</td>\n",
       "    </tr>\n",
       "    <tr>\n",
       "      <th>4</th>\n",
       "      <td>193.41</td>\n",
       "      <td>169.57</td>\n",
       "      <td>204.63</td>\n",
       "      <td>152.60</td>\n",
       "    </tr>\n",
       "  </tbody>\n",
       "</table>\n",
       "</div>"
      ],
      "text/plain": [
       "   Laboratory 1  Laboratory 2  Laboratory 3  Laboratory 4\n",
       "0        185.35        165.53        176.70        166.13\n",
       "1        170.49        185.91        198.45        160.79\n",
       "2        192.77        194.92        201.23        185.18\n",
       "3        177.33        183.00        199.61        176.42\n",
       "4        193.41        169.57        204.63        152.60"
      ]
     },
     "execution_count": 471,
     "metadata": {},
     "output_type": "execute_result"
    }
   ],
   "source": [
    "lab = pd.read_csv('4. LabTAT.csv')\n",
    "lab.head()"
   ]
  },
  {
   "cell_type": "code",
   "execution_count": 472,
   "id": "c60b3bb4",
   "metadata": {},
   "outputs": [
    {
     "data": {
      "text/plain": [
       "(120, 4)"
      ]
     },
     "execution_count": 472,
     "metadata": {},
     "output_type": "execute_result"
    }
   ],
   "source": [
    "lab.shape"
   ]
  },
  {
   "cell_type": "raw",
   "id": "ff8fdb50",
   "metadata": {},
   "source": [
    "Check if outliers are present in the dataset\n",
    "Analyzing for All the series\n",
    "To remove outliers, the following calculations should be done\n",
    "1. Lower bound (minimum)\n",
    "2. First quartile (Q1)\n",
    "3. Median\n",
    "4. Third quartile (Q2)\n",
    "5. Upper bound (maximum)"
   ]
  },
  {
   "cell_type": "code",
   "execution_count": 473,
   "id": "1c9e7318",
   "metadata": {},
   "outputs": [
    {
     "data": {
      "text/plain": [
       "0.95"
      ]
     },
     "execution_count": 473,
     "metadata": {},
     "output_type": "execute_result"
    }
   ],
   "source": [
    "alpha = 0.05 # Given\n",
    "\n",
    "# Confidence Interval\n",
    "ci = 1 - alpha\n",
    "ci"
   ]
  },
  {
   "cell_type": "code",
   "execution_count": 474,
   "id": "add29c2a",
   "metadata": {},
   "outputs": [
    {
     "name": "stdout",
     "output_type": "stream",
     "text": [
      "Q1: Laboratory 1    170.3350\n",
      "Laboratory 2    168.0250\n",
      "Laboratory 3    188.2325\n",
      "Laboratory 4    154.0500\n",
      "Name: 0.25, dtype: float64\n",
      "Q3: Laboratory 1    186.5350\n",
      "Laboratory 2    189.1125\n",
      "Laboratory 3    211.3325\n",
      "Laboratory 4    172.8825\n",
      "Name: 0.75, dtype: float64\n",
      "IQR: Laboratory 1    16.2000\n",
      "Laboratory 2    21.0875\n",
      "Laboratory 3    23.1000\n",
      "Laboratory 4    18.8325\n",
      "dtype: float64\n",
      "lower_bound: Laboratory 1    146.03500\n",
      "Laboratory 2    136.39375\n",
      "Laboratory 3    153.58250\n",
      "Laboratory 4    125.80125\n",
      "dtype: float64\n",
      "upper bound: Laboratory 1    210.83500\n",
      "Laboratory 2    220.74375\n",
      "Laboratory 3    245.98250\n",
      "Laboratory 4    201.13125\n",
      "dtype: float64\n",
      "\n",
      "Outlier(s) in column 'Laboratory 1':\n",
      "48     216.39\n",
      "66     138.30\n",
      "72     143.52\n",
      "114    145.89\n",
      "Name: Laboratory 1, dtype: float64\n",
      "No outliers in column 'Laboratory 2'\n",
      "No outliers in column 'Laboratory 3'\n",
      "Outlier(s) in column 'Laboratory 4':\n",
      "72     124.06\n",
      "109    205.18\n",
      "Name: Laboratory 4, dtype: float64\n",
      "\n",
      "No outliers      Laboratory 1  Laboratory 2  Laboratory 3  Laboratory 4\n",
      "0          185.35        165.53        176.70        166.13\n",
      "1          170.49        185.91        198.45        160.79\n",
      "2          192.77        194.92        201.23        185.18\n",
      "3          177.33        183.00        199.61        176.42\n",
      "4          193.41        169.57        204.63        152.60\n",
      "..            ...           ...           ...           ...\n",
      "110        178.49        170.66        193.80        172.68\n",
      "111        176.08        183.98        215.25        177.64\n",
      "112        202.48        174.54        203.99        170.27\n",
      "113        182.40        197.18        194.52        150.87\n",
      "114        182.09        215.17        221.49        162.21\n",
      "\n",
      "[115 rows x 4 columns]\n"
     ]
    }
   ],
   "source": [
    "# Calculations for Outliers\n",
    "\n",
    "Q1 = lab.quantile(0.25)\n",
    "print(f'Q1: {Q1}')\n",
    "Q3 = lab.quantile(0.75)\n",
    "print(f'Q3: {Q3}')\n",
    "IQR = Q3 - Q1\n",
    "print(f'IQR: {IQR}')\n",
    "# Calculate lower and upper bounds\n",
    "lower_bound = Q1 - 1.5 * IQR\n",
    "print(f'lower_bound: {lower_bound}')\n",
    "upper_bound = Q3 + 1.5 * IQR\n",
    "print(f'upper bound: {upper_bound}')\n",
    "print()\n",
    "\n",
    "# Outliers\n",
    "for col in lab.columns:\n",
    "    lab_outliers = lab[(lab[col] < lower_bound[col]) | (lab[col] > upper_bound[col])]\n",
    "    if not lab_outliers.empty:\n",
    "        print(f\"Outlier(s) in column '{col}':\")\n",
    "        print(lab_outliers[col])\n",
    "    else:\n",
    "        print(f\"No outliers in column '{col}'\")\n",
    "print()\n",
    "\n",
    "# Remove outliers\n",
    "lab_no_outliers = lab[(lab >= lower_bound) & (lab <= upper_bound)].dropna().reset_index(drop=True)\n",
    "print(\"No outliers\", lab_no_outliers)"
   ]
  },
  {
   "cell_type": "code",
   "execution_count": 475,
   "id": "63a60cbd",
   "metadata": {},
   "outputs": [
    {
     "data": {
      "text/html": [
       "<div>\n",
       "<style scoped>\n",
       "    .dataframe tbody tr th:only-of-type {\n",
       "        vertical-align: middle;\n",
       "    }\n",
       "\n",
       "    .dataframe tbody tr th {\n",
       "        vertical-align: top;\n",
       "    }\n",
       "\n",
       "    .dataframe thead th {\n",
       "        text-align: right;\n",
       "    }\n",
       "</style>\n",
       "<table border=\"1\" class=\"dataframe\">\n",
       "  <thead>\n",
       "    <tr style=\"text-align: right;\">\n",
       "      <th></th>\n",
       "      <th>Laboratory 1</th>\n",
       "      <th>Laboratory 2</th>\n",
       "      <th>Laboratory 3</th>\n",
       "      <th>Laboratory 4</th>\n",
       "    </tr>\n",
       "  </thead>\n",
       "  <tbody>\n",
       "    <tr>\n",
       "      <th>0</th>\n",
       "      <td>185.35</td>\n",
       "      <td>165.53</td>\n",
       "      <td>176.70</td>\n",
       "      <td>166.13</td>\n",
       "    </tr>\n",
       "    <tr>\n",
       "      <th>1</th>\n",
       "      <td>170.49</td>\n",
       "      <td>185.91</td>\n",
       "      <td>198.45</td>\n",
       "      <td>160.79</td>\n",
       "    </tr>\n",
       "    <tr>\n",
       "      <th>2</th>\n",
       "      <td>192.77</td>\n",
       "      <td>194.92</td>\n",
       "      <td>201.23</td>\n",
       "      <td>185.18</td>\n",
       "    </tr>\n",
       "    <tr>\n",
       "      <th>3</th>\n",
       "      <td>177.33</td>\n",
       "      <td>183.00</td>\n",
       "      <td>199.61</td>\n",
       "      <td>176.42</td>\n",
       "    </tr>\n",
       "    <tr>\n",
       "      <th>4</th>\n",
       "      <td>193.41</td>\n",
       "      <td>169.57</td>\n",
       "      <td>204.63</td>\n",
       "      <td>152.60</td>\n",
       "    </tr>\n",
       "  </tbody>\n",
       "</table>\n",
       "</div>"
      ],
      "text/plain": [
       "   Laboratory 1  Laboratory 2  Laboratory 3  Laboratory 4\n",
       "0        185.35        165.53        176.70        166.13\n",
       "1        170.49        185.91        198.45        160.79\n",
       "2        192.77        194.92        201.23        185.18\n",
       "3        177.33        183.00        199.61        176.42\n",
       "4        193.41        169.57        204.63        152.60"
      ]
     },
     "execution_count": 475,
     "metadata": {},
     "output_type": "execute_result"
    }
   ],
   "source": [
    "# Re-assigning to new variable\n",
    "new_lab = lab_no_outliers\n",
    "new_lab.head()"
   ]
  },
  {
   "cell_type": "code",
   "execution_count": 476,
   "id": "cc76d489",
   "metadata": {
    "scrolled": false
   },
   "outputs": [
    {
     "data": {
      "image/png": "[encoded data removed]",
      "text/plain": [
       "<Figure size 1600x600 with 2 Axes>"
      ]
     },
     "metadata": {},
     "output_type": "display_data"
    }
   ],
   "source": [
    "# Plot the graph(before removing outliers)\n",
    "\n",
    "# Create a custom color palette\n",
    "colors = ['#17becf', '#e377c2', '#1f618d', '#b7ce63']  # Add more colors if needed\n",
    "\n",
    "# Create a figure with two subplots\n",
    "fig, axs = plt.subplots(1, 2, figsize=(16, 6))\n",
    "\n",
    "# Plot the histogram\n",
    "snsplot = sns.histplot(data=lab, ax=axs[0], color=colors, multiple=\"stack\", palette=colors)\n",
    "axs[0].set_ylabel('Frequency')\n",
    "axs[0].set_title('Histogram of Diameter of Lab')\n",
    "\n",
    "# Plot the boxplot\n",
    "melted_lab = pd.melt(lab)\n",
    "sns.boxplot(x='variable', y='value', data=melted_lab, ax=axs[1], palette=colors)\n",
    "axs[1].set_ylabel('Diameter of Lab')\n",
    "axs[1].set_title('Comparison of Diameter of Lab across Units')\n",
    "\n",
    "plt.tight_layout()\n",
    "plt.show()"
   ]
  },
  {
   "cell_type": "code",
   "execution_count": 477,
   "id": "f1f2d3e4",
   "metadata": {},
   "outputs": [
    {
     "data": {
      "image/png": "[encoded data removed]",
      "text/plain": [
       "<Figure size 1600x600 with 2 Axes>"
      ]
     },
     "metadata": {},
     "output_type": "display_data"
    }
   ],
   "source": [
    "# Plot the graph(after removing outliers)\n",
    "\n",
    "# Create a custom color palette\n",
    "colors = ['#17becf', '#e377c2', '#1f618d', '#b7ce63']  # Add more colors if needed\n",
    "\n",
    "# Create a figure with two subplots\n",
    "fig, axs = plt.subplots(1, 2, figsize=(16, 6))\n",
    "\n",
    "# Plot the histogram\n",
    "snsplot = sns.histplot(data=new_lab, ax=axs[0], color=colors, multiple=\"stack\", palette=colors)\n",
    "axs[0].set_ylabel('Frequency')\n",
    "axs[0].set_title('Histogram of Diameter of Lab')\n",
    "\n",
    "# Plot the boxplot\n",
    "melted_lab = pd.melt(new_lab)\n",
    "sns.boxplot(x='variable', y='value', data=melted_lab, ax=axs[1], palette=colors)\n",
    "axs[1].set_ylabel('Diameter of Lab')\n",
    "axs[1].set_title('Comparison of Diameter of Lab across Units')\n",
    "\n",
    "plt.tight_layout()\n",
    "plt.show()"
   ]
  },
  {
   "cell_type": "code",
   "execution_count": 478,
   "id": "0bd3a0ae",
   "metadata": {},
   "outputs": [],
   "source": [
    "# State null hypothesis\n",
    "h0 = \"There is no a difference in the average TAT among the different laboratories.\""
   ]
  },
  {
   "cell_type": "code",
   "execution_count": 479,
   "id": "752906b7",
   "metadata": {},
   "outputs": [],
   "source": [
    "# State alternate hypothesis\n",
    "h1 = \"There is a difference in the average TAT among the different laboratories.\""
   ]
  },
  {
   "cell_type": "code",
   "execution_count": 480,
   "id": "b4db8749",
   "metadata": {},
   "outputs": [],
   "source": [
    "# State alpha value\n",
    "alpha = 0.05"
   ]
  },
  {
   "cell_type": "code",
   "execution_count": 481,
   "id": "db7f173a",
   "metadata": {},
   "outputs": [],
   "source": [
    "# State decision rule (two-tail test)\n",
    "decision_rule = \"If p-value < alpha/2, reject null hypothesis.\""
   ]
  },
  {
   "cell_type": "code",
   "execution_count": 482,
   "id": "d7e77c37",
   "metadata": {},
   "outputs": [],
   "source": [
    "# Perform the test\n",
    "\n",
    "# Iterate over each column index in the new_cutlets DataFrame\n",
    "for i in range(len(new_lab.columns)):\n",
    "    # Nested loop to iterate over each column index starting from i+1 to avoid duplicate pairs.\n",
    "    for j in range(i+1, len(new_lab.columns)):\n",
    "        # Perform an independent t-test and p_value for each column\n",
    "        f_statistic, p_value = stats.f_oneway(new_lab[new_lab.columns[i]], new_lab[new_lab.columns[j]])"
   ]
  },
  {
   "cell_type": "code",
   "execution_count": 483,
   "id": "1a68fa4d",
   "metadata": {},
   "outputs": [
    {
     "name": "stdout",
     "output_type": "stream",
     "text": [
      "\n",
      "Null Hypothesis (H0): There is no a difference in the average TAT among the different laboratories.\n",
      "Alternate Hypothesis (H1): There is a difference in the average TAT among the different laboratories.\n",
      "Alpha Value: 0.05\n",
      "Decision Rule: If p-value < alpha/2, reject null hypothesis.\n",
      "\n",
      "Comparing Laboratory 1 and Laboratory 2:\n",
      "F-Statistic: 321.36357766546973\n",
      "P-Value: 1.9867657756811292e-45\n",
      "\n",
      "Reject the null hypothesis. There is no a difference in the average TAT among the different laboratories.\n",
      "\n",
      "Comparing Laboratory 1 and Laboratory 3:\n",
      "F-Statistic: 321.36357766546973\n",
      "P-Value: 1.9867657756811292e-45\n",
      "\n",
      "Reject the null hypothesis. There is no a difference in the average TAT among the different laboratories.\n",
      "\n",
      "Comparing Laboratory 1 and Laboratory 4:\n",
      "F-Statistic: 321.36357766546973\n",
      "P-Value: 1.9867657756811292e-45\n",
      "\n",
      "Reject the null hypothesis. There is no a difference in the average TAT among the different laboratories.\n",
      "\n",
      "Comparing Laboratory 2 and Laboratory 3:\n",
      "F-Statistic: 321.36357766546973\n",
      "P-Value: 1.9867657756811292e-45\n",
      "\n",
      "Reject the null hypothesis. There is no a difference in the average TAT among the different laboratories.\n",
      "\n",
      "Comparing Laboratory 2 and Laboratory 4:\n",
      "F-Statistic: 321.36357766546973\n",
      "P-Value: 1.9867657756811292e-45\n",
      "\n",
      "Reject the null hypothesis. There is no a difference in the average TAT among the different laboratories.\n",
      "\n",
      "Comparing Laboratory 3 and Laboratory 4:\n",
      "F-Statistic: 321.36357766546973\n",
      "P-Value: 1.9867657756811292e-45\n",
      "\n",
      "Reject the null hypothesis. There is no a difference in the average TAT among the different laboratories.\n"
     ]
    }
   ],
   "source": [
    "# Conclude the test\n",
    "print(\"\\nNull Hypothesis (H0):\", h0)\n",
    "print(\"Alternate Hypothesis (H1):\", h1)\n",
    "print(\"Alpha Value:\", alpha)\n",
    "print(\"Decision Rule:\", decision_rule)\n",
    "for i in range(len(new_lab.columns)):\n",
    "    for j in range(i+1, len(new_lab.columns)):\n",
    "        print(f\"\\nComparing {new_lab.columns[i]} and {new_lab.columns[j]}:\")\n",
    "        print(\"F-Statistic:\", f_statistic)\n",
    "        print(\"P-Value:\", p_value)\n",
    "        \n",
    "        # Check whether to reject the null hypothesis or not\n",
    "        if p_value < alpha:\n",
    "            print(f\"\\nReject the null hypothesis. {h0}\")\n",
    "        else:\n",
    "            print(f\"\\nFail to reject the null hypothesis. {h1}\")"
   ]
  },
  {
   "attachments": {},
   "cell_type": "markdown",
   "id": "8e9f708d",
   "metadata": {},
   "source": [
    "## Hypothesis Testing for Sales of products in four different regions is tabulated for males and females."
   ]
  },
  {
   "cell_type": "code",
   "execution_count": 484,
   "id": "b1fd603b",
   "metadata": {},
   "outputs": [
    {
     "data": {
      "text/html": [
       "<div>\n",
       "<style scoped>\n",
       "    .dataframe tbody tr th:only-of-type {\n",
       "        vertical-align: middle;\n",
       "    }\n",
       "\n",
       "    .dataframe tbody tr th {\n",
       "        vertical-align: top;\n",
       "    }\n",
       "\n",
       "    .dataframe thead th {\n",
       "        text-align: right;\n",
       "    }\n",
       "</style>\n",
       "<table border=\"1\" class=\"dataframe\">\n",
       "  <thead>\n",
       "    <tr style=\"text-align: right;\">\n",
       "      <th></th>\n",
       "      <th>Observed Values</th>\n",
       "      <th>East</th>\n",
       "      <th>West</th>\n",
       "      <th>North</th>\n",
       "      <th>South</th>\n",
       "    </tr>\n",
       "  </thead>\n",
       "  <tbody>\n",
       "    <tr>\n",
       "      <th>0</th>\n",
       "      <td>Males</td>\n",
       "      <td>50</td>\n",
       "      <td>142</td>\n",
       "      <td>131</td>\n",
       "      <td>70</td>\n",
       "    </tr>\n",
       "    <tr>\n",
       "      <th>1</th>\n",
       "      <td>Females</td>\n",
       "      <td>435</td>\n",
       "      <td>1523</td>\n",
       "      <td>1356</td>\n",
       "      <td>750</td>\n",
       "    </tr>\n",
       "  </tbody>\n",
       "</table>\n",
       "</div>"
      ],
      "text/plain": [
       "  Observed Values  East  West  North  South\n",
       "0           Males    50   142    131     70\n",
       "1         Females   435  1523   1356    750"
      ]
     },
     "execution_count": 484,
     "metadata": {},
     "output_type": "execute_result"
    }
   ],
   "source": [
    "sales = pd.read_csv('1. BuyerRatio.csv', index_col=False)\n",
    "sales"
   ]
  },
  {
   "cell_type": "code",
   "execution_count": 485,
   "id": "1ad4486c",
   "metadata": {},
   "outputs": [],
   "source": [
    "# State null hypothesis\n",
    "h0 = \"All proportions are equal.\""
   ]
  },
  {
   "cell_type": "code",
   "execution_count": 486,
   "id": "72461267",
   "metadata": {},
   "outputs": [],
   "source": [
    "# State alternate hypothesis\n",
    "h1 = \"Not all Proportions are equal.\""
   ]
  },
  {
   "cell_type": "code",
   "execution_count": 487,
   "id": "2d368f84",
   "metadata": {},
   "outputs": [],
   "source": [
    "# State alpha value\n",
    "alpha = 0.05 # Assume"
   ]
  },
  {
   "cell_type": "code",
   "execution_count": 488,
   "id": "eadf438d",
   "metadata": {},
   "outputs": [],
   "source": [
    "# State decision rule (two-tail test)\n",
    "decision_rule = \"If p-value < alpha/2, reject null hypothesis.\""
   ]
  },
  {
   "cell_type": "code",
   "execution_count": 489,
   "id": "c069ea4a",
   "metadata": {},
   "outputs": [
    {
     "data": {
      "text/plain": [
       "array([[  50,  142,  131,   70],\n",
       "       [ 435, 1523, 1356,  750]], dtype=int64)"
      ]
     },
     "execution_count": 489,
     "metadata": {},
     "output_type": "execute_result"
    }
   ],
   "source": [
    "# Extract the observed values\n",
    "observed_values = sales.iloc[:, 1:].values\n",
    "observed_values"
   ]
  },
  {
   "cell_type": "code",
   "execution_count": 490,
   "id": "9104fb4f",
   "metadata": {},
   "outputs": [],
   "source": [
    "# Perform the Chi-square test\n",
    "chi2_stat, p_val, _, _ = chi2_contingency(observed_values)"
   ]
  },
  {
   "cell_type": "code",
   "execution_count": 491,
   "id": "fc01e8e2",
   "metadata": {},
   "outputs": [
    {
     "name": "stdout",
     "output_type": "stream",
     "text": [
      "Null Hypothesis (H0): All proportions are equal.\n",
      "Alternate Hypothesis (H1): Not all Proportions are equal.\n",
      "Alpha Value: 0.05\n",
      "Decision Rule: If p-value < alpha/2, reject null hypothesis.\n",
      "Chi-square statistic: 1.595945538661058\n",
      "P-value: 0.6603094907091882\n",
      "\n",
      "Fail to reject the null hypothesis. Not all Proportions are equal.\n"
     ]
    }
   ],
   "source": [
    "# Conclude the test\n",
    "print(\"Null Hypothesis (H0):\", h0)\n",
    "print(\"Alternate Hypothesis (H1):\", h1)\n",
    "print(\"Alpha Value:\", alpha)\n",
    "print(\"Decision Rule:\", decision_rule)\n",
    "print(f\"Chi-square statistic: {chi2_stat}\")\n",
    "print(f\"P-value: {p_val}\")\n",
    "# Make a decision\n",
    "if p_val < alpha:\n",
    "    print(f\"\\nReject the null hypothesis. {h0}\")\n",
    "else:\n",
    "    print(f\"\\nFail to reject the null hypothesis. {h1}\")"
   ]
  },
  {
   "cell_type": "markdown",
   "id": "dfb6daa7",
   "metadata": {},
   "source": [
    "## Hypothesis Testing for Costomer+OrderForm.csv"
   ]
  },
  {
   "cell_type": "code",
   "execution_count": 492,
   "id": "96494fe2",
   "metadata": {},
   "outputs": [
    {
     "data": {
      "text/html": [
       "<div>\n",
       "<style scoped>\n",
       "    .dataframe tbody tr th:only-of-type {\n",
       "        vertical-align: middle;\n",
       "    }\n",
       "\n",
       "    .dataframe tbody tr th {\n",
       "        vertical-align: top;\n",
       "    }\n",
       "\n",
       "    .dataframe thead th {\n",
       "        text-align: right;\n",
       "    }\n",
       "</style>\n",
       "<table border=\"1\" class=\"dataframe\">\n",
       "  <thead>\n",
       "    <tr style=\"text-align: right;\">\n",
       "      <th></th>\n",
       "      <th>Phillippines</th>\n",
       "      <th>Indonesia</th>\n",
       "      <th>Malta</th>\n",
       "      <th>India</th>\n",
       "    </tr>\n",
       "  </thead>\n",
       "  <tbody>\n",
       "    <tr>\n",
       "      <th>0</th>\n",
       "      <td>Error Free</td>\n",
       "      <td>Error Free</td>\n",
       "      <td>Defective</td>\n",
       "      <td>Error Free</td>\n",
       "    </tr>\n",
       "    <tr>\n",
       "      <th>1</th>\n",
       "      <td>Error Free</td>\n",
       "      <td>Error Free</td>\n",
       "      <td>Error Free</td>\n",
       "      <td>Defective</td>\n",
       "    </tr>\n",
       "    <tr>\n",
       "      <th>2</th>\n",
       "      <td>Error Free</td>\n",
       "      <td>Defective</td>\n",
       "      <td>Defective</td>\n",
       "      <td>Error Free</td>\n",
       "    </tr>\n",
       "    <tr>\n",
       "      <th>3</th>\n",
       "      <td>Error Free</td>\n",
       "      <td>Error Free</td>\n",
       "      <td>Error Free</td>\n",
       "      <td>Error Free</td>\n",
       "    </tr>\n",
       "    <tr>\n",
       "      <th>4</th>\n",
       "      <td>Error Free</td>\n",
       "      <td>Error Free</td>\n",
       "      <td>Defective</td>\n",
       "      <td>Error Free</td>\n",
       "    </tr>\n",
       "  </tbody>\n",
       "</table>\n",
       "</div>"
      ],
      "text/plain": [
       "  Phillippines   Indonesia       Malta       India\n",
       "0   Error Free  Error Free   Defective  Error Free\n",
       "1   Error Free  Error Free  Error Free   Defective\n",
       "2   Error Free   Defective   Defective  Error Free\n",
       "3   Error Free  Error Free  Error Free  Error Free\n",
       "4   Error Free  Error Free   Defective  Error Free"
      ]
     },
     "execution_count": 492,
     "metadata": {},
     "output_type": "execute_result"
    }
   ],
   "source": [
    "telecall = pd.read_csv('2. Costomer+OrderForm.csv')\n",
    "telecall.head(5)"
   ]
  },
  {
   "cell_type": "code",
   "execution_count": 493,
   "id": "7156dfe6",
   "metadata": {},
   "outputs": [
    {
     "data": {
      "text/plain": [
       "(300, 4)"
      ]
     },
     "execution_count": 493,
     "metadata": {},
     "output_type": "execute_result"
    }
   ],
   "source": [
    "telecall.shape"
   ]
  },
  {
   "cell_type": "code",
   "execution_count": 494,
   "id": "5ada49de",
   "metadata": {},
   "outputs": [
    {
     "data": {
      "text/plain": [
       "0.95"
      ]
     },
     "execution_count": 494,
     "metadata": {},
     "output_type": "execute_result"
    }
   ],
   "source": [
    "alpha = 0.05 # Given\n",
    "\n",
    "# Confidence Interval\n",
    "ci = 1 - alpha\n",
    "ci"
   ]
  },
  {
   "cell_type": "code",
   "execution_count": 495,
   "id": "90798155",
   "metadata": {},
   "outputs": [],
   "source": [
    "# State null hypothesis\n",
    "h0 = \"The defective % varies by centre.\""
   ]
  },
  {
   "cell_type": "code",
   "execution_count": 496,
   "id": "e4dc44b1",
   "metadata": {},
   "outputs": [],
   "source": [
    "# State alternate hypothesis\n",
    "h1 = \"The defective % does not varies by centre.\""
   ]
  },
  {
   "cell_type": "code",
   "execution_count": 497,
   "id": "6aa7eb5f",
   "metadata": {},
   "outputs": [],
   "source": [
    "# State alpha value\n",
    "alpha = 0.05 # Assume"
   ]
  },
  {
   "cell_type": "code",
   "execution_count": 498,
   "id": "e2f7706e",
   "metadata": {},
   "outputs": [],
   "source": [
    "# State decision rule (two-tail test)\n",
    "decision_rule = \"If p-value < alpha/2, reject null hypothesis.\""
   ]
  },
  {
   "cell_type": "code",
   "execution_count": 499,
   "id": "0fdbf30f",
   "metadata": {},
   "outputs": [
    {
     "name": "stdout",
     "output_type": "stream",
     "text": [
      "Chi-square statistic: 4.0\n",
      "P-value: 0.26146412994911117\n",
      "\n",
      "Fail to reject the null hypothesis. The defective % does not varies by centre.\n"
     ]
    }
   ],
   "source": [
    "# Performing Chi-square test of independence\n",
    "chi2_stat, p_val, _, _ = chi2_contingency(pd.crosstab(telecall.columns, telecall.iloc[0]))\n",
    "\n",
    "# Print results\n",
    "print(f\"Chi-square statistic: {chi2_stat}\")\n",
    "print(f\"P-value: {p_val}\")\n",
    "\n",
    "# Check significance\n",
    "if p_val < alpha:\n",
    "    print(f\"\\nReject the null hypothesis. {h0}\")\n",
    "else:\n",
    "    print(f\"\\nFail to reject the null hypothesis. {h1}\")"
   ]
  },
  {
   "cell_type": "code",
   "execution_count": 500,
   "id": "0435ee54",
   "metadata": {},
   "outputs": [
    {
     "data": {
      "image/png": "[encoded data removed]",
      "text/plain": [
       "<Figure size 640x480 with 1 Axes>"
      ]
     },
     "metadata": {},
     "output_type": "display_data"
    }
   ],
   "source": [
    "# Count the number of defective and error-free orders for each center\n",
    "counts = telecall.apply(pd.Series.value_counts, axis=0).T\n",
    "counts = counts[['Defective', 'Error Free']]\n",
    "\n",
    "# Plot the bar graph\n",
    "counts.plot(kind='bar', stacked=True)\n",
    "plt.ylabel('Count')\n",
    "plt.title('Defective vs. Error Free Orders by Center')\n",
    "plt.legend(title='Order Status')\n",
    "plt.xticks(rotation=0)\n",
    "plt.show()"
   ]
  }
 ],
 "metadata": {
  "kernelspec": {
   "display_name": "Python 3 (ipykernel)",
   "language": "python",
   "name": "python3"
  },
  "language_info": {
   "codemirror_mode": {
    "name": "ipython",
    "version": 3
   },
   "file_extension": ".py",
   "mimetype": "text/x-python",
   "name": "python",
   "nbconvert_exporter": "python",
   "pygments_lexer": "ipython3",
   "version": "3.11.5"
  }
 },
 "nbformat": 4,
 "nbformat_minor": 5
}
